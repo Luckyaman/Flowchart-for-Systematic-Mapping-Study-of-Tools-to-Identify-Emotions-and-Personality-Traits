{
  "nbformat": 4,
  "nbformat_minor": 0,
  "metadata": {
    "colab": {
      "provenance": []
    },
    "kernelspec": {
      "name": "python3",
      "display_name": "Python 3"
    },
    "language_info": {
      "name": "python"
    }
  },
  "cells": [
    {
      "cell_type": "code",
      "execution_count": null,
      "metadata": {
        "colab": {
          "base_uri": "https://localhost:8080/"
        },
        "id": "7ovB7-ulmQv-",
        "outputId": "70c2a0a6-2008-475c-e4b9-afb587dd459d"
      },
      "outputs": [
        {
          "output_type": "stream",
          "name": "stdout",
          "text": [
            "Flowchart saved as 'systematic_mapping_process.png'\n"
          ]
        }
      ],
      "source": [
        "from graphviz import Digraph\n",
        "\n",
        "# Create a new directed graph\n",
        "dot = Digraph(comment='Systematic Mapping Process')\n",
        "\n",
        "# Add nodes for each stage\n",
        "dot.node('A', 'Formulating Research Questions')\n",
        "dot.node('B', 'Defining Inclusion and Exclusion Criteria')\n",
        "dot.node('C', 'Searching Relevant Databases')\n",
        "dot.node('D', 'Screening and Filtering Studies')\n",
        "dot.node('E', 'Extracting and Analyzing Data')\n",
        "dot.node('F', 'Categorizing Findings')\n",
        "dot.node('G', 'Creating a Systematic Map')\n",
        "\n",
        "# Add edges to connect the stages\n",
        "dot.edges(['AB', 'BC', 'CD', 'DE', 'EF', 'FG'])\n",
        "\n",
        "# Render the flowchart\n",
        "dot.render('systematic_mapping_process', format='png', cleanup=True)\n",
        "\n",
        "print(\"Flowchart saved as 'systematic_mapping_process.png'\")"
      ]
    }
  ]
}